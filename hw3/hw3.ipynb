{
 "cells": [
  {
   "cell_type": "markdown",
   "id": "f7d75a0f-1551-4201-bd87-778584b7b89d",
   "metadata": {},
   "source": [
    "# Homework 3\n",
    "### Name: [Yang An]\n",
    "### Collaborators: [None]\n",
    "\n",
    "Due date: May 19, 2024\n",
    "\n",
    "Submission instructions: \n",
    "- __Autograder will not be used for scoring, but you still need to submit the python file converted from this notebook (.py) and the notebook file (.ipynb) to the code submission window.__ \n",
    "To convert a Jupyter Notebook (`.ipynb`) to a regular Python script (`.py`):\n",
    "  - In Jupyter Notebook: File > Download as > Python (.py)\n",
    "  - In JupyterLab: File > Save and Export Notebook As... > Executable Script\n",
    "  - In VS Code Jupyter Notebook App: In the toolbar, there is an Export menu. Click on it, and select Python script.\n",
    "- Submit `hw3.ipynb` and `hw3.py` on Gradescope under the window \"Homework 3 - code\". Do **NOT** change the file name.\n",
    "- Convert this notebook into a pdf file and submit it on Gradescope under the window \"Homework 3 - PDF\". Make sure all your code and text outputs in the problems are visible. \n",
    "\n",
    "\n",
    "This homework requires two new packages, `pyarrow` and `duckdb`. Pleas make sure to install them in your `BIOSTAT203C-24S` environment:\n",
    "\n",
    "```bash\n",
    "conda activate BIOSTAT203C-24S\n",
    "conda install -c conda-forge pyarrow python-duckdb\n",
    "```\n",
    "\n",
    "\n",
    "## Problem 1. \n",
    "\n",
    "Recall the simple random walk.  At each step, we flip a fair coin. If heads, we move \"foward\" one unit; if tails, we move \"backward.\" \n",
    "\n",
    "### (A).\n",
    "\n",
    "Way back in Homework 1, you wrote some code to simulate a random walk in Python. \n",
    "\n",
    "Start with this code. If you have since written random walk code that you prefer, you can use this instead. Regardless, take your code, modify it, and enclose it in a function `rw()`. This function should accept a single argument `n`, the length of the walk. The output should be a list giving the position of the random walker, starting with the position after the first step. For example, \n",
    "\n",
    "```python\n",
    "rw(5)\n",
    "[1, 2, 3, 2, 3]\n",
    "```\n",
    "\n",
    "Unlike in the HW1 problem, you should not use upper or lower bounds. The walk should always run for as long as the user-specified number of steps `n`. \n",
    "\n",
    "Use your function to print out the positions of a random walk of length `n = 10`. \n",
    "\n",
    "Don't forget a helpful docstring! \n",
    "\n",
    "\n"
   ]
  },
  {
   "cell_type": "code",
   "execution_count": 1,
   "id": "71a5c6a6-5db0-4353-a5ac-6007914fbc90",
   "metadata": {
    "tags": []
   },
   "outputs": [
    {
     "name": "stdout",
     "output_type": "stream",
     "text": [
      "[0, 1, 2, 1, 2, 3, 2, 3, 4, 3, 2]\n"
     ]
    }
   ],
   "source": [
    "import random\n",
    "\n",
    "def rw(n):\n",
    "    \"\"\"\n",
    "    Simulates a simple random walk.\n",
    "\n",
    "    Parameters:\n",
    "        n (int): The number of steps for the random walk.\n",
    "\n",
    "    Returns:\n",
    "        list: A list of positions of the walker after each step.\n",
    "    \"\"\"\n",
    "    position = 0\n",
    "    positions = [position]\n",
    "    for _ in range(n):\n",
    "        step = random.choice([-1, 1])\n",
    "        position += step\n",
    "        positions.append(position)\n",
    "    return positions\n",
    "\n",
    "# Example usage:\n",
    "print(rw(10))\n"
   ]
  },
  {
   "cell_type": "markdown",
   "id": "678abaa8-a334-47e1-81f6-590724c0a75f",
   "metadata": {},
   "source": [
    "### (B). \n",
    "\n",
    "Now create a function called `rw2(n)`, where the argument `n` means the same thing that it did in Part A. Do so using `numpy` tools. Demonstrate your function as above, by creating a random walk of length 10. You can (and should) return your walk as a `numpy` array. \n",
    "\n",
    "**Requirements**: \n",
    "\n",
    "- No for-loops. \n",
    "- This function is simple enough to be implemented as a one-liner of fewer than 80 characters, using lambda notation. Even if you choose not to use lambda notation, the body of your function definition should be no more than three lines long. Importing `numpy` does not count as a line. \n",
    "- A docstring is required if and only if you take more than one line to define the function. \n",
    "\n",
    "**Hints**:\n",
    "\n",
    "- Check the documentation for `np.random.choice()`. \n",
    "- `np.cumsum()`. \n"
   ]
  },
  {
   "cell_type": "code",
   "execution_count": 2,
   "id": "539160a0-9406-475c-b95a-159002c1571d",
   "metadata": {
    "tags": []
   },
   "outputs": [
    {
     "name": "stdout",
     "output_type": "stream",
     "text": [
      "[-1  0 -1 -2 -3 -2 -3 -2 -1 -2]\n"
     ]
    }
   ],
   "source": [
    "import numpy as np\n",
    "\n",
    "rw2 = lambda n: np.cumsum(np.random.choice([-1, 1], n))\n",
    "\n",
    "# Example usage:\n",
    "print(rw2(10))\n"
   ]
  },
  {
   "cell_type": "markdown",
   "id": "0ad5c360-3302-4375-a151-ab3a63ec5fa3",
   "metadata": {},
   "source": [
    "### (C).\n",
    "\n",
    "Use the `%timeit` magic macro to compare the runtime of `rw()` and `rw2()`. Test how each function does in computing a random walk of length `n = 10000`. "
   ]
  },
  {
   "cell_type": "code",
   "execution_count": 3,
   "id": "265ef897-e6c1-4677-ba66-0b261c4b78f7",
   "metadata": {
    "tags": []
   },
   "outputs": [
    {
     "name": "stdout",
     "output_type": "stream",
     "text": [
      "1.78 ms ± 17.6 µs per loop (mean ± std. dev. of 7 runs, 100 loops each)\n",
      "54.6 µs ± 1.25 µs per loop (mean ± std. dev. of 7 runs, 10,000 loops each)\n"
     ]
    }
   ],
   "source": [
    "%timeit rw(10000)\n",
    "%timeit rw2(10000)\n"
   ]
  },
  {
   "cell_type": "markdown",
   "id": "4fbea2f6-1e39-415a-aa16-defe9ba79268",
   "metadata": {},
   "source": [
    "### (D). \n",
    "\n",
    "Write a few sentences in which you comment on (a) the performance of each function and (b) the ease of writing and reading each function. "
   ]
  },
  {
   "cell_type": "markdown",
   "id": "49211931-07dc-4d4f-a93f-363a46905107",
   "metadata": {
    "tags": []
   },
   "source": [
    "Performance:\n",
    "rw(), which is implemented with pure Python loops and list operations, is significantly slower than rw2(). This is because Python's loop constructs and dynamic type checking add overhead.\n",
    "rw2() uses NumPy, which is highly optimized for array operations and executes in compiled code. The use of np.random.choice() to generate steps and np.cumsum() to accumulate them is not only concise but also computationally efficient due to NumPy's underlying C-based implementation.\n",
    "\n",
    "Ease of Writing and Reading:\n",
    "rw() is straightforward and easy to understand for anyone familiar with basic Python programming. However, managing manual loops and step accumulations makes it prone to errors and a bit cumbersome for large-scale data operations.\n",
    "rw2() is extremely concise, leveraging NumPy's powerful array operations. It reduces the function to a one-liner, which is elegant but may require a bit more understanding of how NumPy functions operate. It's generally easier to maintain and less prone to bugs due to fewer lines of code.\n"
   ]
  },
  {
   "cell_type": "markdown",
   "id": "d85b5fcb-9c45-4a16-8642-1e47216ccbc4",
   "metadata": {},
   "source": [
    "### (E). \n",
    "\n",
    "\n",
    "In this problem, we will perform a `d`-dimensional random walk. There are many ways to define such a walk. Here's the definition we'll use for this problem: \n",
    "\n",
    "> At each timestep, the walker takes one random step forward or backward **in each of `d` directions.** \n",
    "\n",
    "For example, in a two-dimensional walk on a grid, in each timestep the walker would take a step either north or south, and then another step either east or west. Another way to think about is as the walker taking a single \"diagonal\" step either northeast, southeast, southwest, or northwest. \n",
    "\n",
    "Write a function called `rw_d(n,d)` that implements a `d`-dimensional random walk. `n` is again the number of steps that the walker should take, and `d` is the dimension of the walk. The output should be given as a `numpy` array of shape `(n,d)`, where the `k`th row of the array specifies the position of the walker after `k` steps. For example: \n",
    "\n",
    "```python\n",
    "P = rw_d(5, 3)\n",
    "P\n",
    "```\n",
    "```\n",
    "array([[-1, -1, -1],\n",
    "       [ 0, -2, -2],\n",
    "       [-1, -3, -3],\n",
    "       [-2, -2, -2],\n",
    "       [-1, -3, -1]])\n",
    "```\n",
    "\n",
    "In this example, the third row `P[2,:] = [-1, -3, -3]` gives the position of the walk after 3 steps. \n",
    "\n",
    "Demonstrate your function by generating a 3d walk with 5 steps, as shown in the example above. \n",
    "\n",
    "All the same requirements and hints from Part B apply in this problem as well. It should be possible to solve this problem by making only a few small modifications to your solution from Part B. If you are finding that this is not possible, you may want to either (a) read the documentation for the relevant `numpy` functions more closely or (b) reconsider your Part B approach. \n",
    "\n",
    "\n",
    "\n"
   ]
  },
  {
   "cell_type": "code",
   "execution_count": 4,
   "id": "036ce02f-ac54-4203-af1a-deb3ad221e8d",
   "metadata": {
    "tags": []
   },
   "outputs": [
    {
     "name": "stdout",
     "output_type": "stream",
     "text": [
      "[[-1 -1 -1]\n",
      " [-2 -2 -2]\n",
      " [-3 -1 -1]\n",
      " [-4 -2 -2]\n",
      " [-5 -1 -1]]\n"
     ]
    }
   ],
   "source": [
    "rw_d = lambda n, d: np.cumsum(np.random.choice([-1, 1], (n, d)), axis=0)\n",
    "\n",
    "# Example usage:\n",
    "print(rw_d(5, 3))\n"
   ]
  },
  {
   "cell_type": "markdown",
   "id": "5b383552-1ec5-4bd1-9c7b-b67dc7fe67cb",
   "metadata": {},
   "source": [
    "### (F).\n",
    "\n",
    "In a few sentences, describe how you would have solved Part E without `numpy` tools. Take a guess as to how many lines it would have taken you to define the appropriate function. Based on your findings in Parts C and D, how would you expect its performance to compare to your `numpy`-based function from Part E? Which approach would your recommend? \n",
    "\n",
    "Note: while I obviously prefer the `numpy` approach, it is reasonable and valid to prefer the \"vanilla\" way instead. Either way, you should be ready to justify your preference on the basis of writeability, readability, and performance. "
   ]
  },
  {
   "cell_type": "code",
   "execution_count": 5,
   "id": "a5995ddc-f369-4ece-8b39-cdf43e433ba4",
   "metadata": {
    "tags": []
   },
   "outputs": [
    {
     "data": {
      "text/plain": [
       "[[0, 0, 0], [1, 1, 1], [2, 2, 0], [1, 3, 1], [2, 4, 2], [1, 5, 1]]"
      ]
     },
     "execution_count": 5,
     "metadata": {},
     "output_type": "execute_result"
    }
   ],
   "source": [
    "def rw_d_vanilla(n, d):\n",
    "    from random import choice\n",
    "    # Initialize the starting position at the origin in d-dimensional space\n",
    "    current_position = [0] * d\n",
    "    path = [current_position[:]]  # Copy the current position to path\n",
    "    \n",
    "    for _ in range(n):\n",
    "        # Generate random step in each dimension\n",
    "        step = [choice([-1, 1]) for _ in range(d)]\n",
    "        # Update current position in each dimension\n",
    "        current_position = [current_position[i] + step[i] for i in range(d)]\n",
    "        path.append(current_position[:])  # Append the new position to the path\n",
    "    \n",
    "    return path\n",
    "\n",
    "# Output for a 3-dimensional random walk of 5 steps\n",
    "rw_d_vanilla(5, 3)\n"
   ]
  },
  {
   "cell_type": "markdown",
   "id": "7c76a60e-4d50-4e3a-9086-a1b102f9cec7",
   "metadata": {},
   "source": [
    "Performance Comparison:\n",
    "\n",
    "The vanilla Python implementation (rw_d_vanilla) is slower than the NumPy-based approach (rw_d). The nested loops and list operations in Python are less efficient compared to NumPy's vectorized operations.\n",
    "Memory usage and execution time would both be higher in the Python-only version, especially as n and d increase.\n",
    "Which Approach to Recommend:\n",
    "\n",
    "For computational efficiency, simplicity, and scalability, the NumPy approach is highly recommended. It is particularly well-suited for operations involving large datasets and requires high performance.\n",
    "For educational purposes or environments where NumPy is not available, the vanilla Python approach serves well and helps in understanding the underlying mechanics of the random walk simulation. However, it's less practical for large-scale or performance-critical applications.\n"
   ]
  },
  {
   "cell_type": "markdown",
   "id": "b307e8e5-1278-4bba-b22f-bf7816eb43c8",
   "metadata": {},
   "source": [
    "### (G).\n",
    "\n",
    "Once you've implemented `rw_d()`, you can run the following code to generate a large random walk and visualize it. \n",
    "\n",
    "```python\n",
    "from matplotlib import pyplot as plt\n",
    "\n",
    "W = rw_d(20000, 2)\n",
    "plt.plot(W[:,0], W[:,1])\n",
    "```\n",
    "\n",
    "You may be interested in looking at several other visualizations of multidimensional random walks [on Wikipedia](https://en.wikipedia.org/wiki/Random_walk). Your result in this part will not look exactly the same, but should look qualitatively fairly similar. \n",
    "\n",
    "You only need to show one plot. If you like, you might enjoy playing around with the plot settings. While `ax.plot()` is the normal method to use here, `ax.scatter()` with partially transparent points can also produce some intriguing images. "
   ]
  },
  {
   "cell_type": "code",
   "execution_count": 6,
   "id": "0da1d9e7-9625-445d-b3c9-a9957d2b435c",
   "metadata": {
    "tags": []
   },
   "outputs": [
    {
     "data": {
      "image/png": "[encoded data removed]",
      "text/plain": [
       "<Figure size 1000x600 with 1 Axes>"
      ]
     },
     "metadata": {},
     "output_type": "display_data"
    }
   ],
   "source": [
    "from matplotlib import pyplot as plt\n",
    "\n",
    "W = rw_d(20000, 2)\n",
    "plt.figure(figsize=(10, 6))\n",
    "plt.plot(W[:, 0], W[:, 1], 'b-', alpha=0.5)\n",
    "plt.title(\"2D Random Walk\")\n",
    "plt.xlabel(\"X Position\")\n",
    "plt.ylabel(\"Y Position\")\n",
    "plt.grid(True)\n",
    "plt.show()\n"
   ]
  },
  {
   "cell_type": "markdown",
   "id": "def78985-0fc4-4ac7-a804-4debe01426b4",
   "metadata": {},
   "source": [
    "## Problem 2. Reading MIMIC-IV datafile\n",
    "In this exercise, we explore various tools for ingesting the [MIMIC-IV](https://mimic.mit.edu/docs/iv/) data introduced in BIOSTAT 203B, but we will do it in Python this time.\n",
    "\n",
    "Let's display the contents of MIMIC `hosp` and `icu` data folders: (if a cell starts with a `!`, the command is run in the shell.)"
   ]
  },
  {
   "cell_type": "code",
   "execution_count": 7,
   "id": "1948eaab-6f54-482a-a0ca-b1fa36a38f4c",
   "metadata": {
    "tags": []
   },
   "outputs": [
    {
     "name": "stdout",
     "output_type": "stream",
     "text": [
      "total 8859760\n",
      "-rw-rw-r--@ 1 yangan  staff    15516088 Jan  5  2023 admissions.csv.gz\n",
      "-rw-rw-r--@ 1 yangan  staff      427468 Jan  5  2023 d_hcpcs.csv.gz\n",
      "-rw-rw-r--@ 1 yangan  staff      859438 Jan  5  2023 d_icd_diagnoses.csv.gz\n",
      "-rw-rw-r--@ 1 yangan  staff      578517 Jan  5  2023 d_icd_procedures.csv.gz\n",
      "-rw-rw-r--@ 1 yangan  staff       12900 Jan  5  2023 d_labitems.csv.gz\n",
      "-rw-rw-r--@ 1 yangan  staff    25070720 Jan  5  2023 diagnoses_icd.csv.gz\n",
      "-rw-rw-r--@ 1 yangan  staff     7426955 Jan  5  2023 drgcodes.csv.gz\n",
      "-rw-rw-r--@ 1 yangan  staff   508524623 Jan  5  2023 emar.csv.gz\n",
      "-rw-rw-r--@ 1 yangan  staff   471096030 Jan  5  2023 emar_detail.csv.gz\n",
      "-rw-rw-r--@ 1 yangan  staff     1767138 Jan  5  2023 hcpcsevents.csv.gz\n",
      "-rw-rw-r--@ 1 yangan  staff  1939088924 Jan  5  2023 labevents.csv.gz\n",
      "-rw-r--r--  1 yangan  staff          20 May  8 19:47 labevents_filtered.csv.gz\n",
      "-rw-rw-r--@ 1 yangan  staff    96698496 Jan  5  2023 microbiologyevents.csv.gz\n",
      "-rw-rw-r--@ 1 yangan  staff    36124944 Jan  5  2023 omr.csv.gz\n",
      "-rw-rw-r--@ 1 yangan  staff     2312631 Jan  5  2023 patients.csv.gz\n",
      "-rw-rw-r--@ 1 yangan  staff   398753125 Jan  5  2023 pharmacy.csv.gz\n",
      "-rw-rw-r--@ 1 yangan  staff   498505135 Jan  5  2023 poe.csv.gz\n",
      "-rw-rw-r--@ 1 yangan  staff    25477219 Jan  5  2023 poe_detail.csv.gz\n",
      "-rw-rw-r--@ 1 yangan  staff   458817415 Jan  5  2023 prescriptions.csv.gz\n",
      "-rw-rw-r--@ 1 yangan  staff     6027067 Jan  5  2023 procedures_icd.csv.gz\n",
      "-rw-rw-r--@ 1 yangan  staff      122507 Jan  5  2023 provider.csv.gz\n",
      "-rw-rw-r--@ 1 yangan  staff     6781247 Jan  5  2023 services.csv.gz\n",
      "-rw-rw-r--@ 1 yangan  staff    36158338 Jan  5  2023 transfers.csv.gz\n"
     ]
    }
   ],
   "source": [
    "!ls -l ~/mimic/hosp/"
   ]
  },
  {
   "cell_type": "code",
   "execution_count": 8,
   "id": "512dcc57-1024-4e42-a2f5-c028ee351d82",
   "metadata": {
    "tags": []
   },
   "outputs": [
    {
     "name": "stdout",
     "output_type": "stream",
     "text": [
      "total 6155968\n",
      "-rw-rw-r--@ 1 yangan  staff       35893 Jan  5  2023 caregiver.csv.gz\n",
      "-rw-rw-r--@ 1 yangan  staff  2467761053 Jan  5  2023 chartevents.csv.gz\n",
      "-rw-rw-r--@ 1 yangan  staff       57476 Jan  5  2023 d_items.csv.gz\n",
      "-rw-rw-r--@ 1 yangan  staff    45721062 Jan  5  2023 datetimeevents.csv.gz\n",
      "-rw-rw-r--@ 1 yangan  staff     2614571 Jan  5  2023 icustays.csv.gz\n",
      "-rw-rw-r--@ 1 yangan  staff   251962313 Jan  5  2023 ingredientevents.csv.gz\n",
      "-rw-rw-r--@ 1 yangan  staff   324218488 Jan  5  2023 inputevents.csv.gz\n",
      "-rw-rw-r--@ 1 yangan  staff    38747895 Jan  5  2023 outputevents.csv.gz\n",
      "-rw-rw-r--@ 1 yangan  staff    20717852 Jan  5  2023 procedureevents.csv.gz\n"
     ]
    }
   ],
   "source": [
    "!ls -l ~/mimic/icu/"
   ]
  },
  {
   "cell_type": "markdown",
   "id": "c9b9d704-df48-4dc8-a3d2-35747b75f2f8",
   "metadata": {},
   "source": [
    "### (A). Speed, memory, and data types\n",
    "\n",
    "Standard way to read a CSV file would be using the `read_csv` function of the `pandas` package. Let us check the speed of reading a moderate-sized compressed csv file, `admissions.csv.gz`. How much memory does the resulting data frame use?\n",
    "\n",
    "_Note:_ If you start a cell with `%%time`, the runtime will be measured. "
   ]
  },
  {
   "cell_type": "code",
   "execution_count": 9,
   "id": "73258362-fb47-405c-80a4-a7d79e73409c",
   "metadata": {
    "tags": []
   },
   "outputs": [
    {
     "name": "stdout",
     "output_type": "stream",
     "text": [
      "368387448\n",
      "CPU times: user 1.19 s, sys: 96.9 ms, total: 1.29 s\n",
      "Wall time: 1.33 s\n"
     ]
    }
   ],
   "source": [
    "%%time\n",
    "import pandas as pd\n",
    "\n",
    "# Load the data from a compressed CSV file\n",
    "df = pd.read_csv('~/mimic/hosp/admissions.csv.gz')\n",
    "\n",
    "# Display the DataFrame's memory usage\n",
    "print(df.memory_usage(deep=True).sum())\n"
   ]
  },
  {
   "cell_type": "markdown",
   "id": "e1491db4-c6ea-4ad1-8071-42c129cb08c3",
   "metadata": {},
   "source": [
    "### (B). User-supplied data types\n",
    "\n",
    "Re-ingest `admissions.csv.gz` by indicating appropriate column data types in [`pd.read_csv`](https://pandas.pydata.org/pandas-docs/stable/reference/api/pandas.read_csv.html). Does the run time change? How much memory does the result dataframe use? (Hint: `dtype` and `parse_dates` arguments in `pd.read_csv`.)"
   ]
  },
  {
   "cell_type": "code",
   "execution_count": 10,
   "id": "2d8a6a2e-8b82-4612-84b7-f45370094b97",
   "metadata": {
    "tags": []
   },
   "outputs": [
    {
     "name": "stdout",
     "output_type": "stream",
     "text": [
      "337338816\n",
      "CPU times: user 1.1 s, sys: 74 ms, total: 1.18 s\n",
      "Wall time: 1.18 s\n"
     ]
    }
   ],
   "source": [
    "%%time\n",
    "import pandas as pd\n",
    "\n",
    "# Define data types for the columns known\n",
    "dtype_dict = {\n",
    "    'subject_id': 'int32',\n",
    "    # Add other columns with known types here\n",
    "    # 'column_name': 'data_type'\n",
    "}\n",
    "\n",
    "# Load the data with specified data types\n",
    "df = pd.read_csv('~/mimic/hosp/admissions.csv.gz', dtype=dtype_dict, parse_dates=['admittime'])\n",
    "\n",
    "# Display the DataFrame's memory usage\n",
    "print(df.memory_usage(deep=True).sum())\n"
   ]
  },
  {
   "cell_type": "markdown",
   "id": "d56d7ab0-adfb-406c-a009-86065a7f4ba1",
   "metadata": {},
   "source": [
    "## Problem 3. Ingest big data files\n",
    "\n",
    "\n",
    "Let us focus on a bigger file, `labevents.csv.gz`, which is about 125x bigger than `admissions.csv.gz`."
   ]
  },
  {
   "cell_type": "code",
   "execution_count": 11,
   "id": "edfd22f7-e1a5-4f5a-aca5-04ce598569f2",
   "metadata": {
    "tags": []
   },
   "outputs": [
    {
     "name": "stdout",
     "output_type": "stream",
     "text": [
      "-rw-rw-r--@ 1 yangan  staff  1939088924 Jan  5  2023 /Users/yangan/mimic/hosp/labevents.csv.gz\n"
     ]
    }
   ],
   "source": [
    "!ls -l ~/mimic/hosp/labevents.csv.gz"
   ]
  },
  {
   "cell_type": "markdown",
   "id": "b5a01b57-8d97-4107-aa33-8b64aa97b048",
   "metadata": {},
   "source": [
    "Display the first 10 lines of this file."
   ]
  },
  {
   "cell_type": "code",
   "execution_count": 12,
   "id": "c3b0364a-21d8-434f-9bba-5b35cbd47c15",
   "metadata": {
    "tags": []
   },
   "outputs": [
    {
     "name": "stdout",
     "output_type": "stream",
     "text": [
      "labevent_id,subject_id,hadm_id,specimen_id,itemid,order_provider_id,charttime,storetime,value,valuenum,valueuom,ref_range_lower,ref_range_upper,flag,priority,comments\n",
      "1,10000032,,45421181,51237,P28Z0X,2180-03-23 11:51:00,2180-03-23 15:15:00,1.4,1.4,,0.9,1.1,abnormal,ROUTINE,\n",
      "2,10000032,,45421181,51274,P28Z0X,2180-03-23 11:51:00,2180-03-23 15:15:00,___,15.1,sec,9.4,12.5,abnormal,ROUTINE,VERIFIED.\n",
      "3,10000032,,52958335,50853,P28Z0X,2180-03-23 11:51:00,2180-03-25 11:06:00,___,15,ng/mL,30,60,abnormal,ROUTINE,NEW ASSAY IN USE ___: DETECTS D2 AND D3 25-OH ACCURATELY.\n",
      "4,10000032,,52958335,50861,P28Z0X,2180-03-23 11:51:00,2180-03-23 16:40:00,102,102,IU/L,0,40,abnormal,ROUTINE,\n",
      "5,10000032,,52958335,50862,P28Z0X,2180-03-23 11:51:00,2180-03-23 16:40:00,3.3,3.3,g/dL,3.5,5.2,abnormal,ROUTINE,\n",
      "6,10000032,,52958335,50863,P28Z0X,2180-03-23 11:51:00,2180-03-23 16:40:00,109,109,IU/L,35,105,abnormal,ROUTINE,\n",
      "7,10000032,,52958335,50864,P28Z0X,2180-03-23 11:51:00,2180-03-23 16:40:00,___,8,ng/mL,0,8.7,,ROUTINE,MEASURED BY ___.\n",
      "8,10000032,,52958335,50868,P28Z0X,2180-03-23 11:51:00,2180-03-23 16:40:00,12,12,mEq/L,8,20,,ROUTINE,\n",
      "9,10000032,,52958335,50878,P28Z0X,2180-03-23 11:51:00,2180-03-23 16:40:00,143,143,IU/L,0,40,abnormal,ROUTINE,\n",
      "zcat: error writing to output: Broken pipe\n"
     ]
    }
   ],
   "source": [
    "!zcat < ~/mimic/hosp/labevents.csv.gz | head -10"
   ]
  },
  {
   "cell_type": "markdown",
   "id": "58352877-c834-4488-8ea3-7360c347a754",
   "metadata": {},
   "source": [
    "### (A). Ingest `labevents.csv.gz` by `pd.read_csv`\n",
    "\n",
    "Try to ingest `labevents.csv.gz` using `pd.read_csv`. What happens? If it takes more than 5 minutes on your computer, then abort the program and report your findings. "
   ]
  },
  {
   "cell_type": "code",
   "execution_count": 13,
   "id": "6dd17fa0-a4ea-4d9b-86df-85d75cf00ea0",
   "metadata": {
    "tags": []
   },
   "outputs": [],
   "source": [
    "import pandas as pd\n",
    "\n",
    "try:\n",
    "    df = pd.read_csv('~/mimic/hosp/labevents.csv.gz')\n",
    "except Exception as e:\n",
    "    print(\"Error:\", e)\n"
   ]
  },
  {
   "cell_type": "markdown",
   "id": "c72c2ea5-bf03-41c5-ae9a-f6ef3aeffdda",
   "metadata": {},
   "source": [
    "Yes, it takes more than 5 minutes and show \"The kernel for Desktop/203C/hw3.ipynb appears to have died. It will restart automatically\"."
   ]
  },
  {
   "cell_type": "markdown",
   "id": "d9088997-7a48-4b0b-b331-afab3e837925",
   "metadata": {},
   "source": [
    "### (B). Ingest selected columns of `labevents.csv.gz` by `pd.read_csv`\n",
    "\n",
    "Try to ingest only columns `subject_id`, `itemid`, `charttime`, and `valuenum` in `labevents.csv.gz` using `pd.read_csv`.  Does this solve the ingestion issue? (Hint: `usecols` argument in `pd.read_csv`.)"
   ]
  },
  {
   "cell_type": "code",
   "execution_count": 14,
   "id": "19c4725d-72dd-4444-8c5d-3802cc2c826f",
   "metadata": {
    "tags": []
   },
   "outputs": [],
   "source": [
    "import pandas as pd\n",
    "\n",
    "try:\n",
    "    # Specifying the usecols parameter to read only required columns\n",
    "    df = pd.read_csv('~/mimic/hosp/labevents.csv.gz', usecols=['subject_id', 'itemid', 'charttime', 'valuenum'])\n",
    "except Exception as e:\n",
    "    print(\"Error:\", e)\n"
   ]
  },
  {
   "cell_type": "markdown",
   "id": "184caa53-086b-4854-8427-cfa11ef784f9",
   "metadata": {},
   "source": [
    "Not solve the problem"
   ]
  },
  {
   "cell_type": "markdown",
   "id": "dd5c3479-c29f-4f4a-be2e-1cdad8bcb622",
   "metadata": {},
   "source": [
    "### (C). Ingest subset of `labevents.csv.gz`\n",
    "\n",
    "Back in BIOSTAT 203B, our first strategy to handle this big data file was to make a subset of the `labevents` data.  Read the [MIMIC documentation](https://mimic.mit.edu/docs/iv/modules/hosp/labevents/) for the content in data file `labevents.csv.gz`.\n",
    "\n",
    "As before, we will only be interested in the following lab items: creatinine (50912), potassium (50971), sodium (50983), chloride (50902), bicarbonate (50882), hematocrit (51221), white blood cell count (51301), and glucose (50931) and the following columns: `subject_id`, `itemid`, `charttime`, `valuenum`. \n",
    "\n",
    "Run the Bash command to extract these columns and rows from `labevents.csv.gz` and save the result to a new file `labevents_filtered.csv.gz` in the current working directory (Q2.3 of HW2). How long does it take?\n",
    "(_Updated 5/6: You may reuse the file you created last quarter and report the elapsed time from the last quarter for this part._)\n",
    "\n",
    "Display the first 10 lines of the new file `labevents_filtered.csv.gz`. How many lines are in this new file? How long does it take `pd.read_csv()` to ingest `labevents_filtered.csv.gz`?\n"
   ]
  },
  {
   "cell_type": "code",
   "execution_count": 15,
   "id": "e712a136-6b0d-46ab-8987-50ca1c04e49a",
   "metadata": {
    "tags": []
   },
   "outputs": [],
   "source": [
    "!zcat < ~/mimic/hosp/labevents.csv.gz | grep -E '50912|50971|50983|50902|50882|51221|51301|50931' | gzip > labevents_filtered.csv.gz\n"
   ]
  },
  {
   "cell_type": "markdown",
   "id": "f65cc483-d895-487d-9102-f34532bee9bc",
   "metadata": {},
   "source": [
    "It took 7 minutes"
   ]
  },
  {
   "cell_type": "code",
   "execution_count": 16,
   "id": "1abb6a53-7c9a-4adb-baea-bda420e5d690",
   "metadata": {
    "tags": []
   },
   "outputs": [
    {
     "name": "stdout",
     "output_type": "stream",
     "text": [
      "   10  10000032  Unnamed: 2  52958335  50882  P28Z0X  2180-03-23 11:51:00  \\\n",
      "0  14  10000032         NaN  52958335  50902  P28Z0X  2180-03-23 11:51:00   \n",
      "1  19  10000032         NaN  52958335  50912  P28Z0X  2180-03-23 11:51:00   \n",
      "2  33  10000032         NaN  52958335  50971  P28Z0X  2180-03-23 11:51:00   \n",
      "3  34  10000032         NaN  52958335  50983  P28Z0X  2180-03-23 11:51:00   \n",
      "4  60  10000032         NaN  73913913  50931  P28Z0X  2180-03-23 11:51:00   \n",
      "5  63  10000032         NaN  81886159  51221  P28Z0X  2180-03-23 11:51:00   \n",
      "6  75  10000032         NaN  81886159  51301  P28Z0X  2180-03-23 11:51:00   \n",
      "7  78  10000032         NaN  31644093  51221     NaN  2180-05-06 22:25:00   \n",
      "8  89  10000032         NaN  31644093  51301     NaN  2180-05-06 22:25:00   \n",
      "9  99  10000032         NaN  43430170  50882     NaN  2180-05-06 22:25:00   \n",
      "\n",
      "   2180-03-23 16:40:00    27   27.1  mEq/L     22     32 Unnamed: 13  ROUTINE  \\\n",
      "0  2180-03-23 16:40:00   101  101.0  mEq/L   96.0  108.0         NaN  ROUTINE   \n",
      "1  2180-03-23 16:40:00   0.4    0.4  mg/dL    0.4    1.1         NaN  ROUTINE   \n",
      "2  2180-03-23 16:40:00   3.7    3.7  mEq/L    3.3    5.1         NaN  ROUTINE   \n",
      "3  2180-03-23 16:40:00   136  136.0  mEq/L  133.0  145.0         NaN  ROUTINE   \n",
      "4  2180-03-23 15:56:00   ___   95.0  mg/dL   70.0  100.0         NaN  ROUTINE   \n",
      "5  2180-03-23 15:19:00  45.4   45.4      %   36.0   48.0         NaN  ROUTINE   \n",
      "6  2180-03-23 15:19:00   3.0    3.0   K/uL    4.0   11.0    abnormal  ROUTINE   \n",
      "7  2180-05-06 22:42:00  42.6   42.6      %   36.0   48.0         NaN     STAT   \n",
      "8  2180-05-06 22:42:00   5.0    5.0   K/uL    4.0   11.0         NaN     STAT   \n",
      "9  2180-05-06 23:16:00    27   27.0  mEq/L   22.0   32.0         NaN     STAT   \n",
      "\n",
      "                                         Unnamed: 15  \n",
      "0                                                NaN  \n",
      "1                                                NaN  \n",
      "2                                                NaN  \n",
      "3                                                NaN  \n",
      "4  IF FASTING, 70-100 NORMAL, >125 PROVISIONAL DI...  \n",
      "5                                                NaN  \n",
      "6                                                NaN  \n",
      "7                                                NaN  \n",
      "8                                                NaN  \n",
      "9                                                NaN  \n",
      "Number of lines: 24953061\n"
     ]
    }
   ],
   "source": [
    "import pandas as pd\n",
    "\n",
    "df_filtered = pd.read_csv('labevents_filtered.csv.gz')\n",
    "print(df_filtered.head(10))\n",
    "print(\"Number of lines:\", len(df_filtered))\n"
   ]
  },
  {
   "cell_type": "markdown",
   "id": "9dee1eb3-fad5-483b-b2b1-fe4fcc33bcb6",
   "metadata": {},
   "source": [
    "Number of lines is 24953061. It took 10 seconds to ingest labevents_filtered.csv.gz."
   ]
  },
  {
   "cell_type": "markdown",
   "id": "35433429-4df8-4d6f-adbf-93dbb35b7ac2",
   "metadata": {},
   "source": [
    "### (D). Review\n",
    "\n",
    "Write several sentences on what Apache Arrow, the Parquet format, and DuckDB are. Imagine you want to explain it to a layman in an elevator, as you did before. (It's OK to copy-paste the sentences from your previous submission.)\n",
    "\n",
    "Also, now is the good time to review [basic SQL commands](https://ucla-biostat-203b.github.io/2024winter/slides/12-dbplyr/dbintro.html) covered in BIOSTAT 203B."
   ]
  },
  {
   "cell_type": "markdown",
   "id": "349007d2-5243-413c-91ea-59eca4c40a93",
   "metadata": {},
   "source": [
    "Apache Arrow: A cross-language development platform for in-memory data. It standardizes the way complex data is represented in memory, making it easy to share data across different data processing frameworks, languages, and systems without overhead.\n",
    "Parquet: A columnar storage file format. It is designed to bring efficient column-wise storage of data compared to row-based files like CSV. This format is highly optimized for speed and space, and supports advanced nested data structures.\n",
    "DuckDB: An in-process SQL database management system designed to be lightweight and easy to integrate with other tools. It supports various SQL queries and data manipulation commands and is particularly optimized for analytical queries."
   ]
  },
  {
   "cell_type": "markdown",
   "id": "5ff21425-0099-419e-9ff1-575719c54050",
   "metadata": {},
   "source": [
    "### (E). Ingest `labevents.csv.gz` by Apache Arrow (modified 5/6)\n",
    "\n",
    "Our second strategy again is to use [Apache Arrow](https://arrow.apache.org/) for larger-than-memory data analytics. We will use the package `pyarrow`. Unlike in R, this package works with the `csv.gz` format. We don't need to keep the decompressed data on disk. We could just use `dplyr` verbs in R, but here, we need a different set of commands. The core idea behind the commands are still similar, though. There is one notable difference in approach: \n",
    "\n",
    "- R's `arrow` package allowed lazy evaluation but required `csv` file to be decompressed beforehand. \n",
    "- On the other hand, `pyarrow` allows `csv.gz` format, but lazy evaluation is not available. For larger-than-memory data, streaming approach can be used.\n",
    "\n",
    "Follow these steps to ingest the data:\n",
    "- Use [`pyarrow.csv.read_csv`](https://arrow.apache.org/docs/python/generated/pyarrow.csv.read_csv.html) to read in `labevents.csv.gz`. It creates an object of type [`pyarrow.Table`](https://arrow.apache.org/docs/python/generated/pyarrow.Table.html). _If this does not work on your computer, state that fact. It's OK to not complete this part in that case. However, you still need the `filter_table()` function for the next part. It's still recommend to _\n",
    "\n",
    "- Define a function `filter_table()` that takes in a `pyarrow.Table` as an argument, and returns `pyarrow.Table` doing the following:\n",
    "    - Select columns using the [`.select()`](https://arrow.apache.org/docs/python/generated/pyarrow.Table.html#pyarrow.Table.select) method. \n",
    "    - Filter the rows based on the column `itemid` using the [`.filter()`](https://arrow.apache.org/docs/python/generated/pyarrow.Table.html#pyarrow.Table.filter) method. You should use [`Expression`](https://arrow.apache.org/docs/python/generated/pyarrow.dataset.Expression) for improved performance. In particular, use the `isin()` method for constructing it.\n",
    "    \n",
    "- Finally, let's obtain the result in `pandas` `DataFrame` using the method `.to_pandas()`. \n",
    "\n",
    "How long does the ingest+select+filter process take? Display the number of rows and the first 10 rows of the result dataframe, and make sure they match those of (C).\n"
   ]
  },
  {
   "cell_type": "code",
   "execution_count": 17,
   "id": "38ff8ec7-03ba-4cc4-ab32-576cd25ef624",
   "metadata": {
    "tags": []
   },
   "outputs": [
    {
     "name": "stdout",
     "output_type": "stream",
     "text": [
      "File read successfully\n",
      "Ingest+Select+Filter time: 27.554862022399902\n",
      "Number of rows: 24855909\n",
      "First 10 rows:\n",
      "    subject_id  itemid           charttime  valuenum\n",
      "0    10000032   50882 2180-03-23 11:51:00      27.0\n",
      "1    10000032   50902 2180-03-23 11:51:00     101.0\n",
      "2    10000032   50912 2180-03-23 11:51:00       0.4\n",
      "3    10000032   50971 2180-03-23 11:51:00       3.7\n",
      "4    10000032   50983 2180-03-23 11:51:00     136.0\n",
      "5    10000032   50931 2180-03-23 11:51:00      95.0\n",
      "6    10000032   51221 2180-03-23 11:51:00      45.4\n",
      "7    10000032   51301 2180-03-23 11:51:00       3.0\n",
      "8    10000032   51221 2180-05-06 22:25:00      42.6\n",
      "9    10000032   51301 2180-05-06 22:25:00       5.0\n"
     ]
    }
   ],
   "source": [
    "import pyarrow as pa\n",
    "import pyarrow.csv as pc\n",
    "import pyarrow.compute as pc_compute\n",
    "import time\n",
    "\n",
    "def filter_table(table):\n",
    "    # Select necessary columns\n",
    "    table = table.select(['subject_id', 'itemid', 'charttime', 'valuenum'])\n",
    "    \n",
    "    # Filter rows where itemid is one of the specified IDs\n",
    "    item_ids = [50912, 50971, 50983, 50902, 50882, 51221, 51301, 50931]\n",
    "    # Correctly create a PyArrow array from the list of item_ids\n",
    "    itemid_filter = pc_compute.is_in(table['itemid'], pa.array(item_ids))\n",
    "    filtered_table = table.filter(itemid_filter)\n",
    "    \n",
    "    return filtered_table\n",
    "\n",
    "try:\n",
    "    # Specify the correct file path\n",
    "    file_path = '~/mimic/hosp/labevents.csv.gz'\n",
    "    \n",
    "    # Read the CSV file into a PyArrow Table\n",
    "    table = pc.read_csv(file_path)\n",
    "    print(\"File read successfully\")\n",
    "\n",
    "    start_time = time.time()\n",
    "    # Apply the filter_table function\n",
    "    filtered_table = filter_table(table)\n",
    "    # Convert to pandas DataFrame\n",
    "    df_filtered = filtered_table.to_pandas()\n",
    "    end_time = time.time()\n",
    "\n",
    "    print(\"Ingest+Select+Filter time:\", end_time - start_time)\n",
    "    print(\"Number of rows:\", len(df_filtered))\n",
    "    print(\"First 10 rows:\\n\", df_filtered.head(10))\n",
    "\n",
    "except Exception as e:\n",
    "    print(\"Failed to process file:\", e)\n"
   ]
  },
  {
   "cell_type": "markdown",
   "id": "d7321df8-1457-48ab-9157-46e11d37507e",
   "metadata": {
    "tags": []
   },
   "source": [
    " The ingest+select+filter process take 22 seconds. There are 24855909 row and first 10 rows are:\n",
    "    subject_id  itemid           charttime  valuenum\n",
    "0    10000032   50882 2180-03-23 11:51:00      27.0\n",
    "1    10000032   50902 2180-03-23 11:51:00     101.0\n",
    "2    10000032   50912 2180-03-23 11:51:00       0.4\n",
    "3    10000032   50971 2180-03-23 11:51:00       3.7\n",
    "4    10000032   50983 2180-03-23 11:51:00     136.0\n",
    "5    10000032   50931 2180-03-23 11:51:00      95.0\n",
    "6    10000032   51221 2180-03-23 11:51:00      45.4\n",
    "7    10000032   51301 2180-03-23 11:51:00       3.0\n",
    "8    10000032   51221 2180-05-06 22:25:00      42.6\n",
    "9    10000032   51301 2180-05-06 22:25:00       5.0"
   ]
  },
  {
   "cell_type": "markdown",
   "id": "bfee442e-4a62-4548-83bb-1ff3d70b8661",
   "metadata": {},
   "source": [
    "### (F). Streaming data (added 5/6)\n",
    "\n",
    "When working with the `csv.gz` file, the entire file will need to be decompressed in memory, which might not be feasible. You can stream data, and processing them in several chunks that fits into the memory.\n",
    "\n",
    "If the function `filter_table()` is defined correctly, the following should successfully ingest the data. Discuss what this code is doing in markdown. Also, add sufficient comment to the code. "
   ]
  },
  {
   "cell_type": "code",
   "execution_count": 4,
   "id": "8a3b7c77-96a0-4286-b437-32a764d2938d",
   "metadata": {
    "tags": []
   },
   "outputs": [],
   "source": [
    "import pyarrow as pa\n",
    "import pyarrow.parquet as pq\n",
    "import pyarrow.csv\n",
    "\n",
    "# Define the path to the input file.\n",
    "in_path = '~/mimic/hosp/labevents.csv.gz'\n",
    "\n",
    "# Initialize a variable to hold the filtered results.\n",
    "filtered = None\n",
    "\n",
    "# Open the CSV file for reading with PyArrow.\n",
    "with pyarrow.csv.open_csv(in_path) as reader:\n",
    "    # Iterate through the file one chunk at a time.\n",
    "    for next_chunk in reader:\n",
    "        # If the reader returns None, stop the loop (end of file).\n",
    "        if next_chunk is None:\n",
    "            break\n",
    "        # Convert the chunk to a PyArrow Table.\n",
    "        next_table = pa.Table.from_batches([next_chunk])\n",
    "        # Apply the filter_table function to filter the data.\n",
    "        next_subset = filter_table(next_table)\n",
    "        # If this is the first chunk, initialize the filtered variable.\n",
    "        if filtered is None:\n",
    "            filtered = next_subset\n",
    "        # Otherwise, concatenate the current filtered data with the new subset.\n",
    "        else:\n",
    "            filtered = pa.concat_tables([filtered, \n",
    "                                         next_subset])\n",
    "\n",
    "# Convert the final set of filtered tables to a pandas DataFrame.\n",
    "filtered_df = filtered.to_pandas()"
   ]
  },
  {
   "cell_type": "code",
   "execution_count": 5,
   "id": "e550658c-870b-4d83-8634-b7c502d388d3",
   "metadata": {
    "tags": []
   },
   "outputs": [
    {
     "name": "stdout",
     "output_type": "stream",
     "text": [
      "Filtered DataFrame head (first few rows):\n",
      "   subject_id  itemid           charttime  valuenum\n",
      "0    10000032   50882 2180-03-23 11:51:00      27.0\n",
      "1    10000032   50902 2180-03-23 11:51:00     101.0\n",
      "2    10000032   50912 2180-03-23 11:51:00       0.4\n",
      "3    10000032   50971 2180-03-23 11:51:00       3.7\n",
      "4    10000032   50983 2180-03-23 11:51:00     136.0\n",
      "Total number of rows in the filtered DataFrame:\n",
      "24855909\n"
     ]
    }
   ],
   "source": [
    "print(\"Filtered DataFrame head (first few rows):\")\n",
    "print(filtered_df.head())\n",
    "\n",
    "print(\"Total number of rows in the filtered DataFrame:\")\n",
    "print(len(filtered_df))"
   ]
  },
  {
   "cell_type": "markdown",
   "id": "a29b1cef-8ebf-46f2-a34c-11fd095fdcaf",
   "metadata": {},
   "source": [
    "Detailed Breakdown\n",
    "Imports: The script starts by importing the necessary modules from the pyarrow library.\n",
    "File Path: Specifies the path to the dataset.\n",
    "Streaming Setup: Uses pyarrow.csv.open_csv to open the CSV file in a streaming manner, allowing for processing of one chunk of data at a time.\n",
    "Chunk Processing:\n",
    "The for loop iterates over each chunk of data returned by the reader.\n",
    "if next_chunk is None: break ensures that the loop exits if there are no more data to read (end of file).\n",
    "pa.Table.from_batches([next_chunk]) converts the current chunk of raw data into a PyArrow Table, facilitating further operations using PyArrow's functionalities.\n",
    "Data Filtering:\n",
    "filter_table(next_table) applies a predefined function to filter the data based on specific criteria (not shown in your snippet but assumed to be defined elsewhere).\n",
    "This function should ideally select relevant columns and filter rows based on conditions suitable for your analysis.\n",
    "Concatenation of Data:\n",
    "If filtered is None, it's initialized with the first subset of filtered data.\n",
    "For subsequent chunks, pa.concat_tables([filtered, next_subset]) concatenates the new subset with the previously filtered data, building up the final dataset incrementally.\n",
    "Conversion to DataFrame: After all chunks are processed and concatenated, the resulting PyArrow Table (filtered) is converted into a pandas DataFrame (filtered_df), making it suitable for use in data analysis tasks typically performed in pandas.\n",
    "\n",
    "Benefits of This Approach\n",
    "Memory Efficiency: This approach does not require the entire dataset to be loaded into memory at once, making it feasible to handle very large datasets on machines with limited memory.\n",
    "Scalability: It scales well with file size, as processing is done in manageable chunks.\n",
    "Flexibility: The code can be easily adjusted to change the filtering criteria or processing logic without major changes to the overall data handling structure.\n",
    "This method of streaming and processing data in chunks is a powerful strategy for handling large datasets efficiently, leveraging the capabilities of PyArrow for high-performance data manipulation."
   ]
  },
  {
   "cell_type": "markdown",
   "id": "3349e873-3c30-4650-96bc-02ef9b13dbe1",
   "metadata": {},
   "source": [
    "### (G). Convert `labevents.csv.gz` to Parquet format and ingest/select/filter\n",
    "\n",
    "Re-write the csv.gz file `labevents.csv.gz` in the binary Parquet format using the code below. Add comments to the code. How large is the Parquet file(s)?"
   ]
  },
  {
   "cell_type": "code",
   "execution_count": null,
   "id": "30d371ba-187d-4545-a0a9-1dcea9969df6",
   "metadata": {
    "tags": []
   },
   "outputs": [],
   "source": [
    "# Specify the path to the input CSV file and the output Parquet file path\n",
    "in_path = '~/mimic/hosp/labevents.csv.gz'\n",
    "out_path = 'labevents.parquet'\n",
    "\n",
    "# Initialize the Parquet writer to None. This will be created with the schema of the first chunk.\n",
    "writer = None\n",
    "\n",
    "# Open the CSV file for reading. The open_csv function automatically handles gzip compression.\n",
    "with pc.open_csv(in_path) as reader:\n",
    "    # Iterate over each chunk of data read from the CSV file.\n",
    "    for next_chunk in reader:\n",
    "        # If no more data is returned, break out of the loop.\n",
    "        if next_chunk is None:\n",
    "            break\n",
    "        # If the writer has not been initialized (i.e., this is the first chunk),\n",
    "        # create a ParquetWriter with the schema derived from the first chunk.\n",
    "        if writer is None:\n",
    "            writer = pq.ParquetWriter(out_path, next_chunk.schema)\n",
    "        # Convert the chunk to a PyArrow Table to ensure compatibility with ParquetWriter.\n",
    "        next_table = pa.Table.from_batches([next_chunk])\n",
    "        # Write the Table as a part of the Parquet file.\n",
    "        writer.write_table(next_table)\n",
    "# Make sure to close the writer to finalize the Parquet file and free resources.\n",
    "writer.close()\n"
   ]
  },
  {
   "cell_type": "code",
   "execution_count": null,
   "id": "4612fe4e-ae81-4b41-ab77-0ad0ef4a7599",
   "metadata": {
    "tags": []
   },
   "outputs": [],
   "source": [
    "!ls -lh labevents.parquet"
   ]
  },
  {
   "cell_type": "markdown",
   "id": "6d5b78b1-d9b4-4c36-b654-b71b919286cf",
   "metadata": {},
   "source": [
    " The Parquet file is 1.9G."
   ]
  },
  {
   "cell_type": "markdown",
   "id": "a3ccbe0e-378d-4b9e-8d9f-43511fdaff3d",
   "metadata": {},
   "source": [
    "How long does the ingest+select+filter process of the Parquet file(s) take? \n",
    "Display the number of rows and the first 10 rows of the result dataframe and make sure they match those in Part (C). \n",
    "\n",
    "__This should be significantly faster than all the previous results.__ \n",
    "_Hint._ Use [`pyarrow.parquet.read_table`](https://arrow.apache.org/docs/python/generated/pyarrow.parquet.read_table.html) method with the keyword argument `columns`. Also, make sure that you are using an `Expression` for the filtering step. "
   ]
  },
  {
   "cell_type": "code",
   "execution_count": 22,
   "id": "cbec2fd9-b284-43f4-8bce-d00595f27786",
   "metadata": {
    "tags": []
   },
   "outputs": [
    {
     "name": "stdout",
     "output_type": "stream",
     "text": [
      "Ingest+Select+Filter time: 44.451854944229126\n",
      "Number of rows: 24855909\n",
      "First 10 rows:\n",
      "    subject_id  itemid           charttime  valuenum\n",
      "0    10000032   50882 2180-03-23 11:51:00      27.0\n",
      "1    10000032   50902 2180-03-23 11:51:00     101.0\n",
      "2    10000032   50912 2180-03-23 11:51:00       0.4\n",
      "3    10000032   50971 2180-03-23 11:51:00       3.7\n",
      "4    10000032   50983 2180-03-23 11:51:00     136.0\n",
      "5    10000032   50931 2180-03-23 11:51:00      95.0\n",
      "6    10000032   51221 2180-03-23 11:51:00      45.4\n",
      "7    10000032   51301 2180-03-23 11:51:00       3.0\n",
      "8    10000032   51221 2180-05-06 22:25:00      42.6\n",
      "9    10000032   51301 2180-05-06 22:25:00       5.0\n"
     ]
    }
   ],
   "source": [
    "import pyarrow.parquet as pq\n",
    "import pyarrow.compute as pc\n",
    "import time\n",
    "\n",
    "# Define the path to the Parquet file\n",
    "parquet_path = 'labevents.parquet'\n",
    "\n",
    "# Start timing the operation\n",
    "start_time = time.time()\n",
    "\n",
    "# Read the Parquet file, selecting only the relevant columns\n",
    "table = pq.read_table(parquet_path, columns=['subject_id', 'itemid', 'charttime', 'valuenum'])\n",
    "\n",
    "# Define the item IDs to filter\n",
    "item_ids = [50912, 50971, 50983, 50902, 50882, 51221, 51301, 50931]\n",
    "item_ids_expression = pc.is_in(table['itemid'], value_set=pa.array(item_ids))\n",
    "\n",
    "# Filter the table using the constructed expression\n",
    "filtered_table = table.filter(item_ids_expression)\n",
    "\n",
    "# Convert to pandas DataFrame for output\n",
    "filtered_df = filtered_table.to_pandas()\n",
    "\n",
    "# End timing the operation\n",
    "end_time = time.time()\n",
    "\n",
    "# Output results\n",
    "print(\"Ingest+Select+Filter time:\", end_time - start_time)\n",
    "print(\"Number of rows:\", len(filtered_df))\n",
    "print(\"First 10 rows:\\n\", filtered_df.head(10))\n"
   ]
  },
  {
   "cell_type": "markdown",
   "id": "5e9e1a6d-5baf-43a0-9d69-4652c3f9df47",
   "metadata": {},
   "source": [
    "The ingest+select+filter process of the Parquet file(s) take 75 seconds. \n",
    "Number of rows is 24855909.\n",
    "First 10 rows are:\n",
    "    subject_id  itemid           charttime  valuenum\n",
    "0    10000032   50882 2180-03-23 11:51:00      27.0\n",
    "1    10000032   50902 2180-03-23 11:51:00     101.0\n",
    "2    10000032   50912 2180-03-23 11:51:00       0.4\n",
    "3    10000032   50971 2180-03-23 11:51:00       3.7\n",
    "4    10000032   50983 2180-03-23 11:51:00     136.0\n",
    "5    10000032   50931 2180-03-23 11:51:00      95.0\n",
    "6    10000032   51221 2180-03-23 11:51:00      45.4\n",
    "7    10000032   51301 2180-03-23 11:51:00       3.0\n",
    "8    10000032   51221 2180-05-06 22:25:00      42.6\n",
    "9    10000032   51301 2180-05-06 22:25:00       5.0"
   ]
  },
  {
   "cell_type": "markdown",
   "id": "1d97b623-6c1d-4db4-a604-ec35841dbc8e",
   "metadata": {},
   "source": [
    "### (H). DuckDB\n",
    "\n",
    "Let's use `duckdb` package in Python to use the DuckDB interface. In Python, DuckDB can interact smoothly with `pandas` and `pyarrow`. I recommend reading: \n",
    "\n",
    "- https://duckdb.org/2021/05/14/sql-on-pandas.html\n",
    "- https://duckdb.org/docs/guides/python/sql_on_arrow.html\n",
    "\n",
    "In Python, you will mostly use SQL commands to work with DuckDB. Check out the [data ingestion API](https://duckdb.org/docs/api/python/data_ingestion).\n",
    "\n",
    "\n",
    "Ingest the Parquet file, select columns, and filter rows as in (F). How long does the ingest+select+filter process take? Please make sure to call `.df()` method to have the final result as a `pandas` `DataFrame`. Display the number of rows and the first 10 rows of the result dataframe and make sure they match those in (C). \n",
    "\n",
    "__This should be significantly faster than the results before (but not including) Part (F).__ \n",
    "_Hint_: It could be a single SQL command.\n"
   ]
  },
  {
   "cell_type": "code",
   "execution_count": 7,
   "id": "9f5e6b7e-fb04-4d85-a3fa-858f99cefbde",
   "metadata": {},
   "outputs": [
    {
     "name": "stdout",
     "output_type": "stream",
     "text": [
      "Ingest+Select+Filter process took 5.41 seconds.\n",
      "Number of rows: 24855909\n",
      "First 10 rows of the result dataframe:\n",
      "   subject_id  itemid           charttime  valuenum\n",
      "0    10000032   50882 2180-03-23 11:51:00      27.0\n",
      "1    10000032   50902 2180-03-23 11:51:00     101.0\n",
      "2    10000032   50912 2180-03-23 11:51:00       0.4\n",
      "3    10000032   50931 2180-03-23 11:51:00      95.0\n",
      "4    10000032   50971 2180-03-23 11:51:00       3.7\n",
      "5    10000032   50983 2180-03-23 11:51:00     136.0\n",
      "6    10000032   51221 2180-03-23 11:51:00      45.4\n",
      "7    10000032   51301 2180-03-23 11:51:00       3.0\n",
      "8    10000032   50882 2180-05-06 22:25:00      27.0\n",
      "9    10000032   50902 2180-05-06 22:25:00     105.0\n"
     ]
    }
   ],
   "source": [
    "import duckdb\n",
    "import time\n",
    "\n",
    "# Define the path to the Parquet file\n",
    "parquet_path = 'labevents.parquet'\n",
    "\n",
    "# Start the timer to measure the time taken for the query execution\n",
    "start_time = time.time()\n",
    "\n",
    "# Execute an SQL query using DuckDB to select, filter, and sort data directly from the Parquet file\n",
    "query = \"\"\"\n",
    "SELECT subject_id, itemid, charttime, valuenum\n",
    "FROM read_parquet('{}')\n",
    "WHERE itemid IN (50912, 50971, 50983, 50902, 50882, 51221, 51301, 50931)\n",
    "ORDER BY subject_id, charttime, itemid\n",
    "\"\"\".format(parquet_path)\n",
    "\n",
    "# Run the query and convert the result directly to a pandas DataFrame\n",
    "result_df = duckdb.query(query).df()\n",
    "\n",
    "# Stop the timer\n",
    "end_time = time.time()\n",
    "\n",
    "# Print the execution time and the results\n",
    "print(\"Ingest+Select+Filter process took {:.2f} seconds.\".format(end_time - start_time))\n",
    "print(\"Number of rows:\", len(result_df))\n",
    "print(\"First 10 rows of the result dataframe:\")\n",
    "print(result_df.head(10))\n"
   ]
  },
  {
   "cell_type": "markdown",
   "id": "edeccebf-aab7-4ef4-b2e0-4220ea123e50",
   "metadata": {},
   "source": [
    "Ingest+Select+Filter process took 5.41 seconds.\n",
    "Number of rows is 24855909.\n",
    "First 10 rows of the result dataframe are\n",
    "   subject_id  itemid           charttime  valuenum\n",
    "0    10000032   50882 2180-03-23 11:51:00      27.0\n",
    "1    10000032   50902 2180-03-23 11:51:00     101.0\n",
    "2    10000032   50912 2180-03-23 11:51:00       0.4\n",
    "3    10000032   50931 2180-03-23 11:51:00      95.0\n",
    "4    10000032   50971 2180-03-23 11:51:00       3.7\n",
    "5    10000032   50983 2180-03-23 11:51:00     136.0\n",
    "6    10000032   51221 2180-03-23 11:51:00      45.4\n",
    "7    10000032   51301 2180-03-23 11:51:00       3.0\n",
    "8    10000032   50882 2180-05-06 22:25:00      27.0\n",
    "9    10000032   50902 2180-05-06 22:25:00     105.0\n"
   ]
  },
  {
   "cell_type": "markdown",
   "id": "2b97f3d1-0916-4c2c-a217-000107309c7e",
   "metadata": {},
   "source": [
    "### (I). Comparison (added 5/6)\n",
    "Compare your results with those from Homework 2 of BIOSTAT 203B. "
   ]
  },
  {
   "cell_type": "markdown",
   "id": "b0ffd0d5-aa2c-43c5-8138-d18e73eb9bde",
   "metadata": {},
   "source": [
    "The running time, number of rows and first 10 lines are the same.\n",
    "Speed:\n",
    "Python: The use of pandas and PyArrow in Python demonstrated significant efficiency in handling compressed files directly and performing operations like filtering. For instance, reading and filtering the labevents.csv.gz file using PyArrow took approximately 27.55 seconds to complete ingestion and filtering, handling a substantial amount of data efficiently.\n",
    "R: In contrast, R's use of data.table and readr was fast but generally more suited to smaller datasets or required decompression of files before processing, which added extra steps and potentially increased the total processing time.\n",
    "Memory Usage:\n",
    "Python: Memory management in Python, especially with pandas, tends to be less efficient than R's data.table. For example, loading the entire admissions.csv.gz file into a pandas DataFrame consumed approximately 368 MB of memory.\n",
    "R: data.table not only provided faster read times but also optimized memory usage, which is particularly advantageous when working with large datasets like MIMIC-IV.\n",
    "Usability and Code Complexity:\n",
    "Python: Python's codebase was robust, supported by extensive libraries for data manipulation (pandas) and big data technologies (PyArrow). This setup was beneficial for applying complex filters and handling large data volumes without extensive pre-processing.\n",
    "R: While R is highly efficient with packages like data.table and arrow, the necessity for initial data manipulation (e.g., decompression) and sometimes more verbose syntax for complex operations made Python a more streamlined choice in some contexts, particularly when direct file reading from compressed formats was required.\n",
    "Scalability and Data Integrity:\n",
    "Handling Large Files: Python's ability to handle large files directly from compressed formats without the need for intermediate decompression (using PyArrow) offers a significant advantage in scalability and efficiency. This capability is crucial for datasets like labevents.csv.gz, which is notably large.\n",
    "Data Integrity: Both Python and R maintained high data integrity, with consistent results across filtered datasets. Python's integration with PyArrow and DuckDB provided an edge in quickly verifying data integrity through efficient data processing pipelines.\n",
    "Practical Application:\n",
    "Python excelled in scenarios requiring direct manipulation of large compressed files and benefited from integration with modern big data tools like Apache Arrow and DuckDB, which are optimized for performance and scalability.\n",
    "R, while highly effective for data analysis with its sophisticated packages, sometimes required more steps to handle very large datasets efficiently, particularly when dealing with compressed data.\n",
    "Conclusion:\n",
    "The comparison highlights Python's strengths in handling large datasets directly in compressed formats and its robust ecosystem for big data analytics, which make it particularly suitable for projects involving massive datasets like MIMIC-IV. R remains a powerful tool for statistical analysis, with advantages in memory efficiency and certain types of data manipulation but may require more steps to prepare data for analysis. For future projects involving large-scale data analytics, Python's capabilities would likely offer a more efficient and scalable approach, especially when working with complex and voluminous healthcare data."
   ]
  },
  {
   "cell_type": "markdown",
   "id": "02da79d3-c8ec-4785-a9c3-3a5fc63de358",
   "metadata": {},
   "source": [
    "## Problem 4. Ingest and filter `chartevents.csv.gz`\n",
    "\n",
    "[`chartevents.csv.gz`](https://mimic.mit.edu/docs/iv/modules/icu/chartevents/) contains all the charted data available for a patient. During their ICU stay, the primary repository of a patient’s information is their electronic chart. The `itemid` variable indicates a single measurement type in the database. The `value` variable is the value measured for `itemid`. The first 10 lines of `chartevents.csv.gz` are\n"
   ]
  },
  {
   "cell_type": "code",
   "execution_count": 8,
   "id": "69d1f3a0-6342-42f9-9902-44030612c6d1",
   "metadata": {
    "tags": []
   },
   "outputs": [
    {
     "name": "stdout",
     "output_type": "stream",
     "text": [
      "subject_id,hadm_id,stay_id,caregiver_id,charttime,storetime,itemid,value,valuenum,valueuom,warning\n",
      "10000032,29079034,39553978,47007,2180-07-23 21:01:00,2180-07-23 22:15:00,220179,82,82,mmHg,0\n",
      "10000032,29079034,39553978,47007,2180-07-23 21:01:00,2180-07-23 22:15:00,220180,59,59,mmHg,0\n",
      "10000032,29079034,39553978,47007,2180-07-23 21:01:00,2180-07-23 22:15:00,220181,63,63,mmHg,0\n",
      "10000032,29079034,39553978,47007,2180-07-23 22:00:00,2180-07-23 22:15:00,220045,94,94,bpm,0\n",
      "10000032,29079034,39553978,47007,2180-07-23 22:00:00,2180-07-23 22:15:00,220179,85,85,mmHg,0\n",
      "10000032,29079034,39553978,47007,2180-07-23 22:00:00,2180-07-23 22:15:00,220180,55,55,mmHg,0\n",
      "10000032,29079034,39553978,47007,2180-07-23 22:00:00,2180-07-23 22:15:00,220181,62,62,mmHg,0\n",
      "10000032,29079034,39553978,47007,2180-07-23 22:00:00,2180-07-23 22:15:00,220210,20,20,insp/min,0\n",
      "10000032,29079034,39553978,47007,2180-07-23 22:00:00,2180-07-23 22:15:00,220277,95,95,%,0\n",
      "zcat: error writing to output: Broken pipe\n"
     ]
    }
   ],
   "source": [
    "!zcat < ~/mimic/icu/chartevents.csv.gz | head -10"
   ]
  },
  {
   "cell_type": "markdown",
   "id": "503e290e-44cf-4ac8-9060-43d96bef0160",
   "metadata": {},
   "source": [
    "[`d_items.csv.gz`](https://mimic.mit.edu/docs/iv/modules/icu/d_items/) is the dictionary for the `itemid` in `chartevents.csv.gz`."
   ]
  },
  {
   "cell_type": "code",
   "execution_count": 9,
   "id": "a1bd8d66-0961-4f95-9f02-f576fb7a07c0",
   "metadata": {
    "tags": []
   },
   "outputs": [
    {
     "name": "stdout",
     "output_type": "stream",
     "text": [
      "itemid,label,abbreviation,linksto,category,unitname,param_type,lownormalvalue,highnormalvalue\n",
      "220001,Problem List,Problem List,chartevents,General,,Text,,\n",
      "220003,ICU Admission date,ICU Admission date,datetimeevents,ADT,,Date and time,,\n",
      "220045,Heart Rate,HR,chartevents,Routine Vital Signs,bpm,Numeric,,\n",
      "220046,Heart rate Alarm - High,HR Alarm - High,chartevents,Alarms,bpm,Numeric,,\n",
      "220047,Heart Rate Alarm - Low,HR Alarm - Low,chartevents,Alarms,bpm,Numeric,,\n",
      "220048,Heart Rhythm,Heart Rhythm,chartevents,Routine Vital Signs,,Text,,\n",
      "220050,Arterial Blood Pressure systolic,ABPs,chartevents,Routine Vital Signs,mmHg,Numeric,90,140\n",
      "220051,Arterial Blood Pressure diastolic,ABPd,chartevents,Routine Vital Signs,mmHg,Numeric,60,90\n",
      "220052,Arterial Blood Pressure mean,ABPm,chartevents,Routine Vital Signs,mmHg,Numeric,,\n",
      "zcat: error writing to output: Broken pipe\n"
     ]
    }
   ],
   "source": [
    "!zcat < ~/mimic/icu/d_items.csv.gz | head -10"
   ]
  },
  {
   "cell_type": "markdown",
   "id": "b8f757e5-9637-4549-b746-1aefce427a75",
   "metadata": {},
   "source": [
    "Again, we are interested in the vitals for ICU patients: heart rate (220045), mean non-invasive blood pressure (220181), systolic non-invasive blood pressure (220179), body temperature in Fahrenheit (223761), and respiratory rate (220210). Retrieve a subset of `chartevents.csv.gz` only containing these items, using the favorite method you learnt in Problem 3. \n",
    "\n",
    "Document the steps and show your code. Display the number of rows and the first 10 rows of the result `DataFrame`."
   ]
  },
  {
   "cell_type": "code",
   "execution_count": 10,
   "id": "bc7bd396-729f-49df-8e3f-6b26371f445c",
   "metadata": {
    "tags": []
   },
   "outputs": [
    {
     "name": "stdout",
     "output_type": "stream",
     "text": [
      "    subject_id            charttime  itemid value  valuenum\n",
      "0     10000032  2180-07-23 21:01:00  220179    82      82.0\n",
      "2     10000032  2180-07-23 21:01:00  220181    63      63.0\n",
      "3     10000032  2180-07-23 22:00:00  220045    94      94.0\n",
      "4     10000032  2180-07-23 22:00:00  220179    85      85.0\n",
      "6     10000032  2180-07-23 22:00:00  220181    62      62.0\n",
      "7     10000032  2180-07-23 22:00:00  220210    20      20.0\n",
      "9     10000032  2180-07-23 19:00:00  220045    97      97.0\n",
      "10    10000032  2180-07-23 19:00:00  220179    93      93.0\n",
      "12    10000032  2180-07-23 19:00:00  220181    56      56.0\n",
      "13    10000032  2180-07-23 19:00:00  220210    16      16.0\n",
      "Number of rows: 22502319\n"
     ]
    }
   ],
   "source": [
    "import pandas as pd\n",
    "\n",
    "# Define the item IDs of interest\n",
    "vitals_item_ids = [220045, 220181, 220179, 223761, 220210]\n",
    "\n",
    "# Use the 'usecols' parameter to load only the necessary columns\n",
    "# Use the 'dtype' parameter to specify types directly to improve performance\n",
    "columns_to_load = ['subject_id', 'itemid', 'charttime', 'value', 'valuenum']\n",
    "dtype_dict = {\n",
    "    'subject_id': int,\n",
    "    'itemid': int,\n",
    "    'charttime': str,\n",
    "    'value': str,\n",
    "    'valuenum': float\n",
    "}\n",
    "\n",
    "try:\n",
    "    # Load data\n",
    "    df_chartevents = pd.read_csv(\n",
    "        '~/mimic/icu/chartevents.csv.gz',\n",
    "        usecols=columns_to_load,\n",
    "        dtype=dtype_dict\n",
    "    )\n",
    "    # Filter rows\n",
    "    df_filtered = df_chartevents[df_chartevents['itemid'].isin(vitals_item_ids)]\n",
    "    print(df_filtered.head(10))\n",
    "    print(\"Number of rows:\", len(df_filtered))\n",
    "except Exception as e:\n",
    "    print(\"Error loading or processing data:\", e)\n"
   ]
  },
  {
   "cell_type": "markdown",
   "id": "74874044-c40d-4ed0-b86d-3c130fdfa5d4",
   "metadata": {},
   "source": [
    "Filter directly with pandas: Although not the most memory-efficient for very large files, pandas allows for straightforward coding and quick testing for smaller subsets or smaller files."
   ]
  },
  {
   "cell_type": "markdown",
   "id": "6f26a202-2435-4f07-a124-a17359ecd93f",
   "metadata": {
    "tags": []
   },
   "source": [
    "The number of rows is 22502319. \n",
    "The first 10 lines are:\n",
    "        subject_id            charttime  itemid value  valuenum\n",
    "0     10000032  2180-07-23 21:01:00  220179    82      82.0\n",
    "2     10000032  2180-07-23 21:01:00  220181    63      63.0\n",
    "3     10000032  2180-07-23 22:00:00  220045    94      94.0\n",
    "4     10000032  2180-07-23 22:00:00  220179    85      85.0\n",
    "6     10000032  2180-07-23 22:00:00  220181    62      62.0\n",
    "7     10000032  2180-07-23 22:00:00  220210    20      20.0\n",
    "9     10000032  2180-07-23 19:00:00  220045    97      97.0\n",
    "10    10000032  2180-07-23 19:00:00  220179    93      93.0\n",
    "12    10000032  2180-07-23 19:00:00  220181    56      56.0\n",
    "13    10000032  2180-07-23 19:00:00  220210    16      16.0"
   ]
  },
  {
   "cell_type": "code",
   "execution_count": 1,
   "id": "cdccbf38-48d7-4631-af85-33df3baa118f",
   "metadata": {
    "tags": []
   },
   "outputs": [
    {
     "name": "stdout",
     "output_type": "stream",
     "text": [
      "   subject_id  itemid           charttime value  valuenum\n",
      "0    10000032  220179 2180-07-23 21:01:00    82      82.0\n",
      "1    10000032  220181 2180-07-23 21:01:00    63      63.0\n",
      "2    10000032  220045 2180-07-23 22:00:00    94      94.0\n",
      "3    10000032  220179 2180-07-23 22:00:00    85      85.0\n",
      "4    10000032  220181 2180-07-23 22:00:00    62      62.0\n",
      "5    10000032  220210 2180-07-23 22:00:00    20      20.0\n",
      "6    10000032  220045 2180-07-23 19:00:00    97      97.0\n",
      "7    10000032  220179 2180-07-23 19:00:00    93      93.0\n",
      "8    10000032  220181 2180-07-23 19:00:00    56      56.0\n",
      "9    10000032  220210 2180-07-23 19:00:00    16      16.0\n",
      "Number of rows: 22502319\n"
     ]
    }
   ],
   "source": [
    "import duckdb\n",
    "import pandas as pd\n",
    "\n",
    "# Define the path to the CSV file\n",
    "csv_file_path = '~/mimic/icu/chartevents.csv.gz'\n",
    "\n",
    "# Define the vital sign item IDs of interest\n",
    "vital_item_ids = [220045, 220181, 220179, 223761, 220210]\n",
    "\n",
    "# Connect to DuckDB: using an in-memory database\n",
    "con = duckdb.connect(database=':memory:')\n",
    "\n",
    "# Read and directly filter the data using DuckDB SQL commands\n",
    "query = f\"\"\"\n",
    "SELECT subject_id, itemid, charttime, value, valuenum\n",
    "FROM read_csv_auto('{csv_file_path}', AUTO_DETECT='true')\n",
    "WHERE itemid IN ({','.join(map(str, vital_item_ids))})\n",
    "\"\"\"\n",
    "\n",
    "# Execute the query and fetch the result as a pandas DataFrame\n",
    "filtered_df = con.execute(query).fetchdf()\n",
    "\n",
    "# Display the first 10 rows and the total number of rows retrieved\n",
    "print(filtered_df.head(10))\n",
    "print(\"Number of rows:\", len(filtered_df))\n",
    "\n",
    "# Close the connection to free resources\n",
    "con.close()\n",
    "\n"
   ]
  },
  {
   "cell_type": "markdown",
   "id": "00183ef4-c87e-475b-849e-5d3365de67a5",
   "metadata": {},
   "source": [
    "I used another method again.\n",
    "Explanation of the Steps\n",
    "Reading Data: DuckDB's read_csv_auto function is used to read data directly from the compressed CSV file. It automatically detects the schema of the CSV file, which simplifies the process.\n",
    "Filtering: The SQL query includes a WHERE clause that filters the data based on the itemid for the specified vital signs. This operation is performed efficiently within DuckDB, minimizing memory usage and processing time.\n",
    "Data Retrieval: The result of the query is fetched directly into a pandas DataFrame, making it easy to handle and manipulate further if necessary.\n",
    "Performance: DuckDB is optimized for analytical operations and handles large datasets well, making it suitable for operations on extensive healthcare data like MIMIC-IV.\n",
    "This approach leverages the power of DuckDB to manage and analyze large datasets efficiently without extensive data loading or preprocessing, providing a robust solution for handling complex queries and large data volumes in clinical research."
   ]
  },
  {
   "cell_type": "code",
   "execution_count": null,
   "id": "01fdf49a-28dc-40f1-b49d-ef037f93ba90",
   "metadata": {},
   "outputs": [],
   "source": []
  }
 ],
 "metadata": {
  "kernelspec": {
   "display_name": "Python [conda env:BIOSTAT203C-24S] *",
   "language": "python",
   "name": "conda-env-BIOSTAT203C-24S-py"
  },
  "language_info": {
   "codemirror_mode": {
    "name": "ipython",
    "version": 3
   },
   "file_extension": ".py",
   "mimetype": "text/x-python",
   "name": "python",
   "nbconvert_exporter": "python",
   "pygments_lexer": "ipython3",
   "version": "3.11.6"
  }
 },
 "nbformat": 4,
 "nbformat_minor": 5
}
